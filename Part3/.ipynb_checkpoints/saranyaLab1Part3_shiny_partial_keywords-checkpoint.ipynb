{
 "cells": [
  {
   "cell_type": "markdown",
   "metadata": {},
   "source": [
    "# This is published at https://ravalipinnaka.shinyapps.io/shinylab1/"
   ]
  },
  {
   "cell_type": "markdown",
   "metadata": {},
   "source": [
    "CDC Heatmap is produced to understand the level of severity by number of deaths due to influenza in every state of USA.\n",
    "\n",
    "Twitter heatmap is produces using the twitter data for the year 2019 with respect to the number of tweets collected from each state. While collecting tweets, only some keywords, namely \"flu\",\"influenza\",\"#h1n1\",\"#h3n2\",\"#pneumonia\" have been used.\n",
    "\n",
    "Inorder to compare both the heatmap results interactively, we created a simple shiny web app which enables us to manually choose the heatmap we want to view.\n",
    "\n",
    "Two checkboxes (CDC Map, Twitter Map) have been enabled on the web app. By selecting either of the checkboxes, we will see the heatmap corresponding to that checkbox. By selecting both the checkboxes, we can compare both the heatmaps at the same time effectively.\n",
    "\n",
    "From the CDC map of 2019, we can observe that the severity of influenza is high in \"Louisiana\" and \"Georgia\" states and low in the northern regions of USA. For the Twitter map of 2019, the severity of influenza is high in the \"Kansas\" state, low in the western regions of USA and not applicable in \"Montana\",\"North Dakota\" and \"Arizona\" states.\n",
    "\n",
    "This proves that the severity of influenza at the locations obtained from twitter data may not be the same as the really effected locations .Hence, one can not rely upon the social media data to draw fair conclusions."
   ]
  },
  {
   "cell_type": "code",
   "execution_count": null,
   "metadata": {},
   "outputs": [],
   "source": [
    "library(shiny)\n",
    "library(ggplot2)\n",
    "library(usmap)\n",
    "library(gridExtra)\n",
    "\n",
    "ui <- shinyUI(fluidPage(\n",
    "  titlePanel(\"CDC Map vs Twitter Map \"),\n",
    "  sidebarLayout(position = \"left\",\n",
    "                sidebarPanel(\"Choose\",\n",
    "                             checkboxInput(\"CDC\", \"CDC Map\", value = T),\n",
    "                             checkboxInput(\"TWITTER\", \"TWITTER Map\", value = F)\n",
    "                             \n",
    "                ),\n",
    "                mainPanel(\"main panel\",\n",
    "                          column(7,plotOutput(outputId=\"plotgraph\", width=\"400px\",height=\"600px\"))\n",
    "                ))))\n",
    "\n",
    "server <- shinyServer(function(input, output) \n",
    "{\n",
    "  set.seed(123)\n",
    "  pt1 <- reactive({\n",
    "    if (!input$CDC ) return (NULL)\n",
    "    heat <- read.csv(\"heat17.csv\",header=T)\n",
    "    heat$lev <- as.numeric(gsub(\"[^[:digit:]]\",\"\",heat$ACTIVITY.LEVEL))\n",
    "    avgdf <- aggregate(heat[, 9], list(heat$STATENAME), mean)\n",
    "    colnames(avgdf)  <- c(\"state\",\"level\")\n",
    "    avgdf$level <- round(avgdf$level, digits = 0)\n",
    "    avgdf$level <- cut(avgdf$level, breaks = 10,labels=c(1,2,3,4,5,6,7,8,9,10))\n",
    "    avgdf$level <- as.factor(avgdf$level)\n",
    "    \n",
    "    plot_usmap(data = avgdf, values = \"level\")+\n",
    "      scale_fill_manual(labels = c(\"Minimal\",\"Minimal\",\"Minimal\",\"Low\",\"Low\",\"Moderate\",\"Moderate\",\"High\",\"High\",\"High\"),\n",
    "                        values=c('#00c200','#5bf700','#8cf700','#baf700','#e0f500','#f7df00','#fcb100','#fc8200','#fa4f00','#cc0000'),\n",
    "                        drop=FALSE,\n",
    "                        guide = guide_legend(reverse = TRUE))+\n",
    "      labs(title = \"CDC map from 2018 40th week till 2019 4th week\",fill=\"ILI Activity Level\") +\n",
    "      theme(legend.position = \"right\")\n",
    "  })\n",
    "  pt2 <- reactive({\n",
    "    if (!input$TWITTER)return (NULL)\n",
    "    \n",
    "   maptable <- read.csv(\"partialMappingTweets.csv\",header=T,stringsAsFactors=F)\n",
    "colnames(maptable)[colnames(maptable)==\"states\"] <- \"state\"\n",
    "maptable$levels <- cut(maptable$Freq, breaks = 10,labels=c(1,2,3,4,5,6,7,8,9,10))\n",
    "maptable$labels <- cut(maptable$Freq, breaks = 10,labels=c(\"Minimal\",\"Minimal\",\"Minimal\",\"Low\",\"Low\",\"Moderate\",\"Moderate\",\"High\",\"High\",\"High\"))\n",
    "plot_usmap(data = maptable, values = \"levels\")+\n",
    "scale_fill_manual(labels =c(\"Minimal\",\"Minimal\",\"Minimal\",\"Low\",\"Low\",\"Moderate\",\"Moderate\",\"High\",\"High\",\"High\"),\n",
    "                  values=c('#00c200','#5bf700','#8cf700','#baf700','#e0f500','#f7df00','#fcb100','#fc8200','#fa4f00','#cc0000'),\n",
    "                  drop=FALSE,\n",
    "                  guide = guide_legend(reverse = TRUE))+\n",
    "                  labs(title = \"Twitter Map for 2019\") +\n",
    "theme(legend.position = \"right\",legend.title=element_blank())\n",
    "\n",
    "    \n",
    "  })\n",
    "  \n",
    "  output$plotgraph = renderPlot({\n",
    "    ptlist <- list(pt1(),pt2())\n",
    "    to_delete <- !sapply(ptlist,is.null)\n",
    "    ptlist <- ptlist[to_delete] \n",
    "    if (length(ptlist)==0) return(NULL)\n",
    "    grid.arrange(grobs=ptlist,ncol=1)\n",
    "  })\n",
    "})\n",
    "shinyApp(ui = ui, server = server)\n",
    "\n"
   ]
  },
  {
   "cell_type": "code",
   "execution_count": null,
   "metadata": {},
   "outputs": [],
   "source": []
  }
 ],
 "metadata": {
  "kernelspec": {
   "display_name": "R",
   "language": "R",
   "name": "ir"
  }
 },
 "nbformat": 4,
 "nbformat_minor": 2
}
